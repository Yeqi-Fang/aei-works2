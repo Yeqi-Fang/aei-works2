{
 "cells": [
  {
   "cell_type": "markdown",
   "id": "c7a13892",
   "metadata": {},
   "source": [
    "# Evaluation notebook\n",
    "This notebook visualises **real vs. predicted** results produced by the `train_nfs_kfold.py` 5‑fold cross‑validation run.\n",
    "\n",
    "It expects the following files in the *current working directory*:\n",
    "```text\n",
    "cv_results.csv   # predictions: mf, mf1, mf2, mismatch\n",
    "data/x_data.csv  # input features  (unused here except for optional inspection)\n",
    "data/y_data.csv  # ground‑truth target\n",
    "```\n",
    "The notebook will draw distribution plots, a Q–Q scatter, residual histograms, and inspect three **example rows** with predicted means around 0.15, 0.30, and 0.001.\n",
    "\n",
    "> **Note:** All plots use plain matplotlib (no seaborn) as per plotting guidelines."
   ]
  },
  {
   "cell_type": "code",
   "execution_count": 1,
   "id": "380e780c",
   "metadata": {},
   "outputs": [],
   "source": [
    "import pandas as pd\n",
    "import numpy as np\n",
    "import matplotlib.pyplot as plt\n",
    "from pathlib import Path\n",
    "\n",
    "# Make sure plots render inline when the notebook is opened\n",
    "%matplotlib inline"
   ]
  },
  {
   "cell_type": "code",
   "execution_count": 7,
   "id": "8af671c1",
   "metadata": {},
   "outputs": [
    {
     "data": {
      "application/vnd.microsoft.datawrangler.viewer.v0+json": {
       "columns": [
        {
         "name": "index",
         "rawType": "int64",
         "type": "integer"
        },
        {
         "name": "mf",
         "rawType": "float64",
         "type": "float"
        },
        {
         "name": "mf1",
         "rawType": "float64",
         "type": "float"
        },
        {
         "name": "mf2",
         "rawType": "float64",
         "type": "float"
        },
        {
         "name": "y_true",
         "rawType": "float64",
         "type": "float"
        }
       ],
       "ref": "f01d0748-7b7f-4234-a6cd-ff63fa5539d5",
       "rows": [
        [
         "0",
         "0.5",
         "0.1",
         "0.000625",
         "0.2487619958780814"
        ],
        [
         "1",
         "0.5",
         "0.1",
         "0.000625",
         "0.0797208393152619"
        ],
        [
         "2",
         "0.5",
         "0.1",
         "0.000625",
         "0.0669054229246357"
        ],
        [
         "3",
         "0.5",
         "0.1",
         "0.000625",
         "0.2551844414541442"
        ],
        [
         "4",
         "0.5",
         "0.1",
         "0.000625",
         "0.1148643233871707"
        ],
        [
         "5",
         "0.5",
         "0.1",
         "0.000625",
         "0.0595588313324119"
        ],
        [
         "6",
         "0.5",
         "0.1",
         "0.000625",
         "0.114266070275528"
        ],
        [
         "7",
         "0.5",
         "0.1",
         "0.000625",
         "0.0412350339055965"
        ],
        [
         "8",
         "0.5",
         "0.1",
         "0.000625",
         "0.0313002900363178"
        ],
        [
         "9",
         "0.5",
         "0.1",
         "0.000625",
         "0.2013240581807885"
        ],
        [
         "10",
         "0.5",
         "0.1",
         "0.000625",
         "0.2164823915850634"
        ],
        [
         "11",
         "0.5",
         "0.1",
         "0.000625",
         "0.1302896730581321"
        ],
        [
         "12",
         "0.5",
         "0.1",
         "0.000625",
         "0.0208281201002946"
        ],
        [
         "13",
         "0.5",
         "0.1",
         "0.000625",
         "0.0199078661520468"
        ],
        [
         "14",
         "0.5",
         "0.1",
         "0.000625",
         "0.0312183729395217"
        ],
        [
         "15",
         "0.5",
         "0.1",
         "0.000625",
         "0.1922201002596694"
        ],
        [
         "16",
         "0.5",
         "0.1",
         "0.000625",
         "0.1593916852368354"
        ],
        [
         "17",
         "0.5",
         "0.1",
         "0.000625",
         "0.1215370187261235"
        ],
        [
         "18",
         "0.5",
         "0.1",
         "0.000625",
         "0.1043508421385417"
        ],
        [
         "19",
         "0.5",
         "0.1",
         "0.000625",
         "0.0218980860121936"
        ],
        [
         "20",
         "0.5",
         "0.1",
         "0.000625",
         "0.1813270243155412"
        ],
        [
         "21",
         "0.5",
         "0.1",
         "0.000625",
         "0.0972346259818943"
        ],
        [
         "22",
         "0.5",
         "0.1",
         "0.000625",
         "0.1161511605709205"
        ],
        [
         "23",
         "0.5",
         "0.1",
         "0.000625",
         "0.074506529519717"
        ],
        [
         "24",
         "0.5",
         "0.1",
         "0.000625",
         "0.0682855764452866"
        ],
        [
         "25",
         "0.5",
         "0.1",
         "0.000625",
         "0.1006725784894531"
        ],
        [
         "26",
         "0.5",
         "0.1",
         "0.000625",
         "0.0552148812152534"
        ],
        [
         "27",
         "0.5",
         "0.1",
         "0.000625",
         "0.2360552643906514"
        ],
        [
         "28",
         "0.5",
         "0.1",
         "0.000625",
         "0.0303082062983746"
        ],
        [
         "29",
         "0.5",
         "0.1",
         "0.000625",
         "0.0932424313418812"
        ],
        [
         "30",
         "0.5",
         "0.1",
         "0.000625",
         "0.1399017193086101"
        ],
        [
         "31",
         "0.5",
         "0.1",
         "0.000625",
         "0.1682929495087714"
        ],
        [
         "32",
         "0.5",
         "0.1",
         "0.000625",
         "0.0911313737058072"
        ],
        [
         "33",
         "0.5",
         "0.1",
         "0.000625",
         "0.1842933748082974"
        ],
        [
         "34",
         "0.5",
         "0.1",
         "0.000625",
         "0.1251225957661531"
        ],
        [
         "35",
         "0.5",
         "0.1",
         "0.000625",
         "0.1060758008068213"
        ],
        [
         "36",
         "0.5",
         "0.1",
         "0.000625",
         "0.1169224547304397"
        ],
        [
         "37",
         "0.5",
         "0.1",
         "0.000625",
         "0.2151143362732683"
        ],
        [
         "38",
         "0.5",
         "0.1",
         "0.000625",
         "0.1527016315665308"
        ],
        [
         "39",
         "0.5",
         "0.1",
         "0.000625",
         "0.0899660506723336"
        ],
        [
         "40",
         "0.5",
         "0.1",
         "0.000625",
         "0.2444446769076351"
        ],
        [
         "41",
         "0.5",
         "0.1",
         "0.000625",
         "0.1598615438384454"
        ],
        [
         "42",
         "0.5",
         "0.1",
         "0.000625",
         "0.248802682200381"
        ],
        [
         "43",
         "0.5",
         "0.1",
         "0.000625",
         "0.0610650237145009"
        ],
        [
         "44",
         "0.5",
         "0.1",
         "0.000625",
         "0.1116424841457269"
        ],
        [
         "45",
         "0.5",
         "0.1",
         "0.000625",
         "0.125601917777835"
        ],
        [
         "46",
         "0.5",
         "0.1",
         "0.000625",
         "0.1249956706210854"
        ],
        [
         "47",
         "0.5",
         "0.1",
         "0.000625",
         "0.1647579197896989"
        ],
        [
         "48",
         "0.5",
         "0.1",
         "0.000625",
         "0.061359223233039"
        ],
        [
         "49",
         "0.5",
         "0.1",
         "0.000625",
         "0.2098733308276384"
        ]
       ],
       "shape": {
        "columns": 4,
        "rows": 1089500
       }
      },
      "text/html": [
       "<div>\n",
       "<style scoped>\n",
       "    .dataframe tbody tr th:only-of-type {\n",
       "        vertical-align: middle;\n",
       "    }\n",
       "\n",
       "    .dataframe tbody tr th {\n",
       "        vertical-align: top;\n",
       "    }\n",
       "\n",
       "    .dataframe thead th {\n",
       "        text-align: right;\n",
       "    }\n",
       "</style>\n",
       "<table border=\"1\" class=\"dataframe\">\n",
       "  <thead>\n",
       "    <tr style=\"text-align: right;\">\n",
       "      <th></th>\n",
       "      <th>mf</th>\n",
       "      <th>mf1</th>\n",
       "      <th>mf2</th>\n",
       "      <th>y_true</th>\n",
       "    </tr>\n",
       "  </thead>\n",
       "  <tbody>\n",
       "    <tr>\n",
       "      <th>0</th>\n",
       "      <td>0.500000</td>\n",
       "      <td>0.100000</td>\n",
       "      <td>0.000625</td>\n",
       "      <td>0.248762</td>\n",
       "    </tr>\n",
       "    <tr>\n",
       "      <th>1</th>\n",
       "      <td>0.500000</td>\n",
       "      <td>0.100000</td>\n",
       "      <td>0.000625</td>\n",
       "      <td>0.079721</td>\n",
       "    </tr>\n",
       "    <tr>\n",
       "      <th>2</th>\n",
       "      <td>0.500000</td>\n",
       "      <td>0.100000</td>\n",
       "      <td>0.000625</td>\n",
       "      <td>0.066905</td>\n",
       "    </tr>\n",
       "    <tr>\n",
       "      <th>3</th>\n",
       "      <td>0.500000</td>\n",
       "      <td>0.100000</td>\n",
       "      <td>0.000625</td>\n",
       "      <td>0.255184</td>\n",
       "    </tr>\n",
       "    <tr>\n",
       "      <th>4</th>\n",
       "      <td>0.500000</td>\n",
       "      <td>0.100000</td>\n",
       "      <td>0.000625</td>\n",
       "      <td>0.114864</td>\n",
       "    </tr>\n",
       "    <tr>\n",
       "      <th>...</th>\n",
       "      <td>...</td>\n",
       "      <td>...</td>\n",
       "      <td>...</td>\n",
       "      <td>...</td>\n",
       "    </tr>\n",
       "    <tr>\n",
       "      <th>1089495</th>\n",
       "      <td>0.190901</td>\n",
       "      <td>0.286092</td>\n",
       "      <td>0.190288</td>\n",
       "      <td>0.365918</td>\n",
       "    </tr>\n",
       "    <tr>\n",
       "      <th>1089496</th>\n",
       "      <td>0.190901</td>\n",
       "      <td>0.286092</td>\n",
       "      <td>0.190288</td>\n",
       "      <td>0.306025</td>\n",
       "    </tr>\n",
       "    <tr>\n",
       "      <th>1089497</th>\n",
       "      <td>0.190901</td>\n",
       "      <td>0.286092</td>\n",
       "      <td>0.190288</td>\n",
       "      <td>0.506340</td>\n",
       "    </tr>\n",
       "    <tr>\n",
       "      <th>1089498</th>\n",
       "      <td>0.190901</td>\n",
       "      <td>0.286092</td>\n",
       "      <td>0.190288</td>\n",
       "      <td>0.611921</td>\n",
       "    </tr>\n",
       "    <tr>\n",
       "      <th>1089499</th>\n",
       "      <td>0.190901</td>\n",
       "      <td>0.286092</td>\n",
       "      <td>0.190288</td>\n",
       "      <td>0.481051</td>\n",
       "    </tr>\n",
       "  </tbody>\n",
       "</table>\n",
       "<p>1089500 rows × 4 columns</p>\n",
       "</div>"
      ],
      "text/plain": [
       "               mf       mf1       mf2    y_true\n",
       "0        0.500000  0.100000  0.000625  0.248762\n",
       "1        0.500000  0.100000  0.000625  0.079721\n",
       "2        0.500000  0.100000  0.000625  0.066905\n",
       "3        0.500000  0.100000  0.000625  0.255184\n",
       "4        0.500000  0.100000  0.000625  0.114864\n",
       "...           ...       ...       ...       ...\n",
       "1089495  0.190901  0.286092  0.190288  0.365918\n",
       "1089496  0.190901  0.286092  0.190288  0.306025\n",
       "1089497  0.190901  0.286092  0.190288  0.506340\n",
       "1089498  0.190901  0.286092  0.190288  0.611921\n",
       "1089499  0.190901  0.286092  0.190288  0.481051\n",
       "\n",
       "[1089500 rows x 4 columns]"
      ]
     },
     "execution_count": 7,
     "metadata": {},
     "output_type": "execute_result"
    }
   ],
   "source": [
    "cv_path   = Path('cv_results.csv')\n",
    "x_path    = Path('data/x_data.csv')\n",
    "y_path    = Path('data/y_data.csv')\n",
    "\n",
    "pred_df = pd.read_csv(cv_path)\n",
    "y_df    = pd.read_csv(y_path, skiprows=1, names=['y_true'])\n",
    "x_df    = pd.read_csv(x_path)\n",
    "\n",
    "# concat\n",
    "\n",
    "true_df = pd.concat([x_df, y_df], axis=1)\n",
    "\n",
    "\n",
    "assert len(pred_df) == len(y_df), 'Row counts differ between prediction and ground truth!'\n",
    "\n",
    "true_df"
   ]
  },
  {
   "cell_type": "markdown",
   "id": "a67fffe6",
   "metadata": {},
   "source": [
    "## Quick summary"
   ]
  },
  {
   "cell_type": "code",
   "execution_count": null,
   "id": "346c4fa6",
   "metadata": {},
   "outputs": [
    {
     "name": "stdout",
     "output_type": "stream",
     "text": [
      "Number of samples: 1089500\n",
      "\n",
      "Prediction columns:\n"
     ]
    },
    {
     "data": {
      "application/vnd.microsoft.datawrangler.viewer.v0+json": {
       "columns": [
        {
         "name": "index",
         "rawType": "int64",
         "type": "integer"
        },
        {
         "name": "mf",
         "rawType": "float64",
         "type": "float"
        },
        {
         "name": "mf1",
         "rawType": "float64",
         "type": "float"
        },
        {
         "name": "mf2",
         "rawType": "float64",
         "type": "float"
        },
        {
         "name": "mismatch",
         "rawType": "float64",
         "type": "float"
        }
       ],
       "ref": "19a2328d-ffa6-4d8c-a3bd-180ffa0c09dd",
       "rows": [
        [
         "0",
         "0.13717291",
         "-0.00017924141",
         "0.29727957",
         "0.11158909"
        ],
        [
         "1",
         "0.120762974",
         "-0.0012465935",
         "0.25988668",
         "0.041042134"
        ],
        [
         "2",
         "0.16815089",
         "-0.0024000395",
         "0.32243294",
         "0.10124546"
        ],
        [
         "3",
         "0.14645793",
         "-0.012850851",
         "0.29051566",
         "0.10872652"
        ],
        [
         "4",
         "0.14461634",
         "-0.046197057",
         "0.27453297",
         "0.029752009"
        ]
       ],
       "shape": {
        "columns": 4,
        "rows": 5
       }
      },
      "text/html": [
       "<div>\n",
       "<style scoped>\n",
       "    .dataframe tbody tr th:only-of-type {\n",
       "        vertical-align: middle;\n",
       "    }\n",
       "\n",
       "    .dataframe tbody tr th {\n",
       "        vertical-align: top;\n",
       "    }\n",
       "\n",
       "    .dataframe thead th {\n",
       "        text-align: right;\n",
       "    }\n",
       "</style>\n",
       "<table border=\"1\" class=\"dataframe\">\n",
       "  <thead>\n",
       "    <tr style=\"text-align: right;\">\n",
       "      <th></th>\n",
       "      <th>mf</th>\n",
       "      <th>mf1</th>\n",
       "      <th>mf2</th>\n",
       "      <th>mismatch</th>\n",
       "    </tr>\n",
       "  </thead>\n",
       "  <tbody>\n",
       "    <tr>\n",
       "      <th>0</th>\n",
       "      <td>0.137173</td>\n",
       "      <td>-0.000179</td>\n",
       "      <td>0.297280</td>\n",
       "      <td>0.111589</td>\n",
       "    </tr>\n",
       "    <tr>\n",
       "      <th>1</th>\n",
       "      <td>0.120763</td>\n",
       "      <td>-0.001247</td>\n",
       "      <td>0.259887</td>\n",
       "      <td>0.041042</td>\n",
       "    </tr>\n",
       "    <tr>\n",
       "      <th>2</th>\n",
       "      <td>0.168151</td>\n",
       "      <td>-0.002400</td>\n",
       "      <td>0.322433</td>\n",
       "      <td>0.101245</td>\n",
       "    </tr>\n",
       "    <tr>\n",
       "      <th>3</th>\n",
       "      <td>0.146458</td>\n",
       "      <td>-0.012851</td>\n",
       "      <td>0.290516</td>\n",
       "      <td>0.108727</td>\n",
       "    </tr>\n",
       "    <tr>\n",
       "      <th>4</th>\n",
       "      <td>0.144616</td>\n",
       "      <td>-0.046197</td>\n",
       "      <td>0.274533</td>\n",
       "      <td>0.029752</td>\n",
       "    </tr>\n",
       "  </tbody>\n",
       "</table>\n",
       "</div>"
      ],
      "text/plain": [
       "         mf       mf1       mf2  mismatch\n",
       "0  0.137173 -0.000179  0.297280  0.111589\n",
       "1  0.120763 -0.001247  0.259887  0.041042\n",
       "2  0.168151 -0.002400  0.322433  0.101245\n",
       "3  0.146458 -0.012851  0.290516  0.108727\n",
       "4  0.144616 -0.046197  0.274533  0.029752"
      ]
     },
     "metadata": {},
     "output_type": "display_data"
    },
    {
     "name": "stdout",
     "output_type": "stream",
     "text": [
      "\n",
      "Ground‑truth y:\n"
     ]
    },
    {
     "data": {
      "application/vnd.microsoft.datawrangler.viewer.v0+json": {
       "columns": [
        {
         "name": "index",
         "rawType": "int64",
         "type": "integer"
        },
        {
         "name": "y_true",
         "rawType": "float64",
         "type": "float"
        }
       ],
       "ref": "5a4fbc70-d52a-466e-81c7-998516242409",
       "rows": [
        [
         "0",
         "0.2487619958780814"
        ],
        [
         "1",
         "0.0797208393152619"
        ],
        [
         "2",
         "0.0669054229246357"
        ],
        [
         "3",
         "0.2551844414541442"
        ],
        [
         "4",
         "0.1148643233871707"
        ]
       ],
       "shape": {
        "columns": 1,
        "rows": 5
       }
      },
      "text/html": [
       "<div>\n",
       "<style scoped>\n",
       "    .dataframe tbody tr th:only-of-type {\n",
       "        vertical-align: middle;\n",
       "    }\n",
       "\n",
       "    .dataframe tbody tr th {\n",
       "        vertical-align: top;\n",
       "    }\n",
       "\n",
       "    .dataframe thead th {\n",
       "        text-align: right;\n",
       "    }\n",
       "</style>\n",
       "<table border=\"1\" class=\"dataframe\">\n",
       "  <thead>\n",
       "    <tr style=\"text-align: right;\">\n",
       "      <th></th>\n",
       "      <th>y_true</th>\n",
       "    </tr>\n",
       "  </thead>\n",
       "  <tbody>\n",
       "    <tr>\n",
       "      <th>0</th>\n",
       "      <td>0.248762</td>\n",
       "    </tr>\n",
       "    <tr>\n",
       "      <th>1</th>\n",
       "      <td>0.079721</td>\n",
       "    </tr>\n",
       "    <tr>\n",
       "      <th>2</th>\n",
       "      <td>0.066905</td>\n",
       "    </tr>\n",
       "    <tr>\n",
       "      <th>3</th>\n",
       "      <td>0.255184</td>\n",
       "    </tr>\n",
       "    <tr>\n",
       "      <th>4</th>\n",
       "      <td>0.114864</td>\n",
       "    </tr>\n",
       "  </tbody>\n",
       "</table>\n",
       "</div>"
      ],
      "text/plain": [
       "     y_true\n",
       "0  0.248762\n",
       "1  0.079721\n",
       "2  0.066905\n",
       "3  0.255184\n",
       "4  0.114864"
      ]
     },
     "metadata": {},
     "output_type": "display_data"
    }
   ],
   "source": [
    "print('Number of samples:', len(pred_df))\n",
    "print('\\nPrediction columns:')\n",
    "display(pred_df.head())\n",
    "\n",
    "print('\\nGround‑truth y:')\n",
    "display(y_df.head())"
   ]
  },
  {
   "cell_type": "markdown",
   "id": "9b0840a4",
   "metadata": {},
   "source": [
    "## Distribution overlap"
   ]
  },
  {
   "cell_type": "code",
   "execution_count": 14,
   "id": "0138c79b",
   "metadata": {},
   "outputs": [
    {
     "name": "stdout",
     "output_type": "stream",
     "text": [
      "Best threshold: 0.0223\n",
      "Best mf: 0.1284, mf1: 0.2967, mf2: 0.0054\n"
     ]
    }
   ],
   "source": [
    "target = {\"mf\": 0.15, \"mf1\": 0.30, \"mf2\": 0.001}\n",
    "\n",
    "def find_best_threshold(row):\n",
    "    a = (row['mf'] - target['mf']) ** 2\n",
    "    b = (row['mf1'] - target['mf1']) ** 2\n",
    "    c = (row['mf2'] - target['mf2']) ** 2\n",
    "    return np.sqrt(a + b + c)\n",
    "\n",
    "\n",
    "pred_df['best_threshold'] = true_df.apply(find_best_threshold, axis=1)\n",
    "best_threshold = pred_df['best_threshold'].min()\n",
    "print(f'Best threshold: {best_threshold:.4f}')\n",
    "# find best mf, mf1, mf2\n",
    "best_row = true_df.loc[pred_df['best_threshold'].idxmin()]\n",
    "print(f\"Best mf: {best_row['mf']:.4f}, mf1: {best_row['mf1']:.4f}, mf2: {best_row['mf2']:.4f}\")"
   ]
  },
  {
   "cell_type": "code",
   "execution_count": null,
   "id": "4973be36",
   "metadata": {},
   "outputs": [
    {
     "data": {
      "image/png": "[encoded data removed]",
      "text/plain": [
       "<Figure size 600x400 with 1 Axes>"
      ]
     },
     "metadata": {},
     "output_type": "display_data"
    }
   ],
   "source": [
    "# Histogram overlay: predicted mean (mf) vs. true y\n",
    "plt.figure(figsize=(6,4))\n",
    "plt.hist(pred_df['mf'], bins=50, alpha=0.6, density=True, label='predicted mf')\n",
    "plt.hist(y_df['y_true'], bins=50, alpha=0.6, density=True, label='true y')\n",
    "plt.title('Distribution overlap (density)')\n",
    "plt.legend()\n",
    "plt.xlabel('Value')\n",
    "plt.ylabel('Density')\n",
    "plt.show()"
   ]
  },
  {
   "cell_type": "markdown",
   "id": "37630fdd",
   "metadata": {},
   "source": [
    "## Q–Q comparison"
   ]
  },
  {
   "cell_type": "code",
   "execution_count": null,
   "id": "52441182",
   "metadata": {},
   "outputs": [
    {
     "data": {
      "image/png": "[encoded data removed]",
      "text/plain": [
       "<Figure size 500x500 with 1 Axes>"
      ]
     },
     "metadata": {},
     "output_type": "display_data"
    }
   ],
   "source": [
    "percs = np.linspace(1, 99, 99)\n",
    "q_true = np.percentile(y_df['y_true'], percs)\n",
    "q_pred = np.percentile(pred_df['mf'], percs)\n",
    "\n",
    "plt.figure(figsize=(5,5))\n",
    "plt.scatter(q_true, q_pred, s=8)\n",
    "lims = [min(q_true.min(), q_pred.min()), max(q_true.max(), q_pred.max())]\n",
    "plt.plot(lims, lims, '--')\n",
    "plt.xlabel('True quantiles')\n",
    "plt.ylabel('Predicted quantiles')\n",
    "plt.title('Q–Q plot')\n",
    "plt.show()"
   ]
  },
  {
   "cell_type": "markdown",
   "id": "7d245297",
   "metadata": {},
   "source": [
    "## Residuals (|mf - y_true|)"
   ]
  },
  {
   "cell_type": "code",
   "execution_count": null,
   "id": "cc31f2e8",
   "metadata": {},
   "outputs": [
    {
     "data": {
      "image/png": "[encoded data removed]",
      "text/plain": [
       "<Figure size 600x400 with 1 Axes>"
      ]
     },
     "metadata": {},
     "output_type": "display_data"
    }
   ],
   "source": [
    "resid = (pred_df['mf'] - y_df['y_true']).abs()\n",
    "plt.figure(figsize=(6,4))\n",
    "plt.hist(resid, bins=50)\n",
    "plt.xlabel('Absolute error')\n",
    "plt.ylabel('Count')\n",
    "plt.title('Residual histogram')\n",
    "plt.show()"
   ]
  },
  {
   "cell_type": "markdown",
   "id": "09df4798",
   "metadata": {},
   "source": [
    "## Three example rows"
   ]
  },
  {
   "cell_type": "code",
   "execution_count": null,
   "id": "692d18a6",
   "metadata": {},
   "outputs": [
    {
     "data": {
      "application/vnd.microsoft.datawrangler.viewer.v0+json": {
       "columns": [
        {
         "name": "index",
         "rawType": "int64",
         "type": "integer"
        },
        {
         "name": "mf",
         "rawType": "float64",
         "type": "float"
        },
        {
         "name": "mf1",
         "rawType": "float64",
         "type": "float"
        },
        {
         "name": "mf2",
         "rawType": "float64",
         "type": "float"
        },
        {
         "name": "mismatch",
         "rawType": "float64",
         "type": "float"
        },
        {
         "name": "y_true",
         "rawType": "float64",
         "type": "float"
        }
       ],
       "ref": "282c1124-8532-4d5b-92c0-fff66fddcbe0",
       "rows": [
        [
         "0",
         "0.14999983",
         "-0.018748743",
         "0.3167638",
         "0.08286931",
         "0.0671305156433142"
        ],
        [
         "1",
         "0.30000007",
         "0.14664021",
         "0.45239127",
         "0.089882225",
         "0.3898823048866997"
        ],
        [
         "2",
         "0.053182885",
         "0.0012529417",
         "0.115133405",
         "0.024267497",
         "0.028915388251121"
        ]
       ],
       "shape": {
        "columns": 5,
        "rows": 3
       }
      },
      "text/html": [
       "<div>\n",
       "<style scoped>\n",
       "    .dataframe tbody tr th:only-of-type {\n",
       "        vertical-align: middle;\n",
       "    }\n",
       "\n",
       "    .dataframe tbody tr th {\n",
       "        vertical-align: top;\n",
       "    }\n",
       "\n",
       "    .dataframe thead th {\n",
       "        text-align: right;\n",
       "    }\n",
       "</style>\n",
       "<table border=\"1\" class=\"dataframe\">\n",
       "  <thead>\n",
       "    <tr style=\"text-align: right;\">\n",
       "      <th></th>\n",
       "      <th>mf</th>\n",
       "      <th>mf1</th>\n",
       "      <th>mf2</th>\n",
       "      <th>mismatch</th>\n",
       "      <th>y_true</th>\n",
       "    </tr>\n",
       "  </thead>\n",
       "  <tbody>\n",
       "    <tr>\n",
       "      <th>0</th>\n",
       "      <td>0.150000</td>\n",
       "      <td>-0.018749</td>\n",
       "      <td>0.316764</td>\n",
       "      <td>0.082869</td>\n",
       "      <td>0.067131</td>\n",
       "    </tr>\n",
       "    <tr>\n",
       "      <th>1</th>\n",
       "      <td>0.300000</td>\n",
       "      <td>0.146640</td>\n",
       "      <td>0.452391</td>\n",
       "      <td>0.089882</td>\n",
       "      <td>0.389882</td>\n",
       "    </tr>\n",
       "    <tr>\n",
       "      <th>2</th>\n",
       "      <td>0.053183</td>\n",
       "      <td>0.001253</td>\n",
       "      <td>0.115133</td>\n",
       "      <td>0.024267</td>\n",
       "      <td>0.028915</td>\n",
       "    </tr>\n",
       "  </tbody>\n",
       "</table>\n",
       "</div>"
      ],
      "text/plain": [
       "         mf       mf1       mf2  mismatch    y_true\n",
       "0  0.150000 -0.018749  0.316764  0.082869  0.067131\n",
       "1  0.300000  0.146640  0.452391  0.089882  0.389882\n",
       "2  0.053183  0.001253  0.115133  0.024267  0.028915"
      ]
     },
     "execution_count": 7,
     "metadata": {},
     "output_type": "execute_result"
    }
   ],
   "source": [
    "wanted = [0.15, 0.30, 0.001]\n",
    "examples = []\n",
    "for w in wanted:\n",
    "    idx = (pred_df['mf'] - w).abs().idxmin()\n",
    "    examples.append(idx)\n",
    "\n",
    "example_df = pd.concat([\n",
    "    pred_df.loc[examples].reset_index(drop=True),\n",
    "    y_df.loc[examples].reset_index(drop=True)\n",
    "], axis=1)\n",
    "example_df"
   ]
  },
  {
   "cell_type": "code",
   "execution_count": null,
   "id": "5e3dadb9",
   "metadata": {},
   "outputs": [
    {
     "data": {
      "image/png": "[encoded data removed]",
      "text/plain": [
       "<Figure size 400x300 with 1 Axes>"
      ]
     },
     "metadata": {},
     "output_type": "display_data"
    },
    {
     "data": {
      "image/png": "[encoded data removed]",
      "text/plain": [
       "<Figure size 400x300 with 1 Axes>"
      ]
     },
     "metadata": {},
     "output_type": "display_data"
    },
    {
     "data": {
      "image/png": "[encoded data removed]",
      "text/plain": [
       "<Figure size 400x300 with 1 Axes>"
      ]
     },
     "metadata": {},
     "output_type": "display_data"
    }
   ],
   "source": [
    "for i, row in example_df.iterrows():\n",
    "    plt.figure(figsize=(4,3))\n",
    "    plt.errorbar(\n",
    "        x=[0],\n",
    "        y=[row['mf']],\n",
    "        yerr=[[row['mf'] - row['mf1']], [row['mf2'] - row['mf']]],\n",
    "        fmt='o', capsize=4, label='prediction 90% CI')\n",
    "    plt.scatter(0, row['y_true'], marker='x', s=80, label='true y')\n",
    "    plt.xticks([])\n",
    "    plt.ylabel('Value')\n",
    "    plt.title(f'Row {examples[i]}')\n",
    "    plt.legend()\n",
    "    plt.show()"
   ]
  }
 ],
 "metadata": {
  "kernelspec": {
   "display_name": "lalsuite-env",
   "language": "python",
   "name": "python3"
  },
  "language_info": {
   "name": "python",
   "version": "3.12.10"
  }
 },
 "nbformat": 4,
 "nbformat_minor": 5
}
