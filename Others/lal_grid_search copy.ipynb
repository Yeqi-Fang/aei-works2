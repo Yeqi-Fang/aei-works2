{
 "cells": [
  {
   "cell_type": "code",
   "execution_count": 1,
   "id": "00547c72",
   "metadata": {},
   "outputs": [],
   "source": [
    "import os\n",
    "import subprocess\n",
    "import numpy as np\n",
    "import matplotlib.pyplot as plt\n",
    "import pandas as pd\n",
    "from matplotlib import gridspec"
   ]
  },
  {
   "cell_type": "code",
   "execution_count": 2,
   "id": "969a0805",
   "metadata": {},
   "outputs": [
    {
     "name": "stdout",
     "output_type": "stream",
     "text": [
      "Generating SFT data with injected signal...\n",
      "SFTs generated successfully!\n"
     ]
    }
   ],
   "source": [
    "# Create output directory\n",
    "label = \"LALGridSearchF0F1F2\"  # Changed: removed underscores\n",
    "outdir = os.path.join(\"LAL_example_data\", label)\n",
    "os.makedirs(outdir, exist_ok=True)\n",
    "\n",
    "# Properties of the GW data\n",
    "sqrtSX = 1e-23\n",
    "tstart = 1000000000\n",
    "duration = 10 * 86400\n",
    "tend = tstart + duration\n",
    "tref = 0.5 * (tstart + tend)\n",
    "IFO = \"H1\"\n",
    "\n",
    "# Parameters for injected signals\n",
    "depth = 20\n",
    "h0 = sqrtSX / depth\n",
    "F0_inj = 30.0\n",
    "F1_inj = -1e-10\n",
    "F2_inj = 0\n",
    "Alpha_inj = 1.0\n",
    "Delta_inj = 1.5\n",
    "cosi_inj = 0.0\n",
    "psi_inj = 0.0\n",
    "phi0_inj = 0.0\n",
    "\n",
    "# Step 1: Generate SFT data with injected signal using lalpulsar_Makefakedata_v5\n",
    "print(\"Generating SFT data with injected signal...\")\n",
    "\n",
    "sft_dir = os.path.join(outdir, \"sfts\")\n",
    "os.makedirs(sft_dir, exist_ok=True)\n",
    "\n",
    "injection_params = (\n",
    "    f\"{{Alpha={Alpha_inj}; Delta={Delta_inj}; Freq={F0_inj}; \"\n",
    "    f\"f1dot={F1_inj}; f2dot={F2_inj}; refTime={tref}; \"\n",
    "    f\"h0={h0}; cosi={cosi_inj}; psi={psi_inj}; phi0={phi0_inj};}}\"\n",
    ")\n",
    "\n",
    "# Use a simple alphanumeric label for SFT files\n",
    "sft_label = \"GridF0F1F2\"  # Changed: simple alphanumeric label for SFT files\n",
    "\n",
    "makefakedata_cmd = [\n",
    "    \"lalpulsar_Makefakedata_v5\",\n",
    "    f\"--IFOs={IFO}\",\n",
    "    f\"--sqrtSX={sqrtSX}\",\n",
    "    f\"--startTime={tstart}\",\n",
    "    f\"--duration={duration}\",\n",
    "    f\"--fmin={F0_inj - 1.0}\",  # Set frequency band around signal\n",
    "    f\"--Band=2.0\",\n",
    "    \"--Tsft=1800\",\n",
    "    f\"--outSFTdir={sft_dir}\",\n",
    "    f\"--outLabel={sft_label}\",  # Changed: use the simple label\n",
    "    f\"--injectionSources={injection_params}\",\n",
    "    \"--randSeed=42\"\n",
    "]\n",
    "\n",
    "result = subprocess.run(makefakedata_cmd, capture_output=True, text=True)\n",
    "if result.returncode != 0:\n",
    "    print(f\"Error generating SFTs: {result.stderr}\")\n",
    "    raise RuntimeError(\"Failed to generate SFTs\")\n",
    "\n",
    "print(\"SFTs generated successfully!\")\n"
   ]
  },
  {
   "cell_type": "code",
   "execution_count": 3,
   "id": "85449796",
   "metadata": {},
   "outputs": [
    {
     "name": "stdout",
     "output_type": "stream",
     "text": [
      "Found 1 SFT files\n",
      "\n",
      "Running F-statistic grid search...\n",
      "F-statistic search completed!\n"
     ]
    }
   ],
   "source": [
    "# Check if SFTs were actually created\n",
    "import glob\n",
    "sft_files = glob.glob(os.path.join(sft_dir, \"*.sft\"))\n",
    "print(f\"Found {len(sft_files)} SFT files\")\n",
    "\n",
    "# Step 2: Set up grid search parameters\n",
    "m = 0.01\n",
    "dF0 = np.sqrt(12 * m) / (np.pi * duration)\n",
    "dF1 = np.sqrt(180 * m) / (np.pi * duration**2)\n",
    "dF2 = 1e-17\n",
    "N = 100\n",
    "DeltaF0 = N * dF0\n",
    "DeltaF1 = N * dF1\n",
    "DeltaF2 = N * dF2\n",
    "\n",
    "F0_min = F0_inj - DeltaF0 / 2.0\n",
    "F0_max = F0_inj + DeltaF0 / 2.0\n",
    "F1_min = F1_inj - DeltaF1 / 2.0\n",
    "F1_max = F1_inj + DeltaF1 / 2.0\n",
    "F2_min = F2_inj - DeltaF2 / 2.0\n",
    "F2_max = F2_inj + DeltaF2 / 2.0\n",
    "\n",
    "# Step 3: Run ComputeFstatistic_v2 for grid search\n",
    "print(\"\\nRunning F-statistic grid search...\")\n",
    "\n",
    "output_fstat = \"fstat_results.dat\"  # Use relative path when running from outdir\n",
    "sft_pattern = \"sfts/*.sft\"  # Use relative path when running from outdir\n",
    "\n",
    "computefstat_cmd = [\n",
    "    \"lalpulsar_ComputeFstatistic_v2\",\n",
    "    f\"--DataFiles={sft_pattern}\",\n",
    "    f\"--refTime={tref}\",\n",
    "    f\"--Alpha={Alpha_inj}\",\n",
    "    f\"--Delta={Delta_inj}\",\n",
    "    f\"--Freq={F0_min}\",\n",
    "    f\"--FreqBand={DeltaF0}\",\n",
    "    f\"--dFreq={dF0}\",\n",
    "    f\"--f1dot={F1_min}\",\n",
    "    f\"--f1dotBand={DeltaF1}\",\n",
    "    f\"--df1dot={dF1}\",\n",
    "    f\"--f2dot={F2_min}\",\n",
    "    f\"--f2dotBand={DeltaF2}\",\n",
    "    f\"--df2dot={dF2}\",\n",
    "    f\"--outputFstat={output_fstat}\",\n",
    "    \"--outputLoudest=loudest.dat\",\n",
    "    f\"--minStartTime={tstart}\",\n",
    "    f\"--maxStartTime={tend}\"\n",
    "]\n",
    "\n",
    "# Run from within the output directory\n",
    "result = subprocess.run(computefstat_cmd, capture_output=True, text=True, cwd=outdir)\n",
    "if result.returncode != 0:\n",
    "    print(f\"Error running ComputeFstatistic_v2: {result.stderr}\")\n",
    "    raise RuntimeError(\"Failed to run F-statistic search\")\n",
    "\n",
    "print(\"F-statistic search completed!\")\n"
   ]
  },
  {
   "cell_type": "code",
   "execution_count": 16,
   "id": "b760e762",
   "metadata": {},
   "outputs": [
    {
     "name": "stdout",
     "output_type": "stream",
     "text": [
      "\n",
      "Parsing results...\n",
      "LAL_example_data/LALGridSearchF0F1F2/fstat_results.dat\n"
     ]
    },
    {
     "data": {
      "application/vnd.microsoft.datawrangler.viewer.v0+json": {
       "columns": [
        {
         "name": "index",
         "rawType": "int64",
         "type": "integer"
        },
        {
         "name": "freq",
         "rawType": "float64",
         "type": "float"
        },
        {
         "name": "f1dot",
         "rawType": "float64",
         "type": "float"
        },
        {
         "name": "f2dot",
         "rawType": "float64",
         "type": "float"
        },
        {
         "name": "twoF",
         "rawType": "float64",
         "type": "float"
        }
       ],
       "ref": "0dbdc85e-ced5-483f-8cb5-8cad9a0a8550",
       "rows": [
        [
         "0",
         "29.99999361887852",
         "-1.2860414028007559e-10",
         "-5e-16",
         "2.89092159"
        ],
        [
         "1",
         "29.99999374650095",
         "-1.2860414028007559e-10",
         "-5e-16",
         "3.87375903"
        ],
        [
         "2",
         "29.99999387412338",
         "-1.2860414028007559e-10",
         "-5e-16",
         "4.50550938"
        ],
        [
         "3",
         "29.99999400174581",
         "-1.2860414028007559e-10",
         "-5e-16",
         "4.5512023"
        ],
        [
         "4",
         "29.99999412936824",
         "-1.2860414028007559e-10",
         "-5e-16",
         "4.02241898"
        ],
        [
         "5",
         "29.99999425699066",
         "-1.2860414028007559e-10",
         "-5e-16",
         "3.17810583"
        ],
        [
         "6",
         "29.99999438461309",
         "-1.2860414028007559e-10",
         "-5e-16",
         "2.43159437"
        ],
        [
         "7",
         "29.99999451223552",
         "-1.2860414028007559e-10",
         "-5e-16",
         "2.20509219"
        ],
        [
         "8",
         "29.99999463985795",
         "-1.2860414028007559e-10",
         "-5e-16",
         "2.77691031"
        ],
        [
         "9",
         "29.99999476748038",
         "-1.2860414028007559e-10",
         "-5e-16",
         "4.18112659"
        ],
        [
         "10",
         "29.99999489510281",
         "-1.2860414028007559e-10",
         "-5e-16",
         "6.19347191"
        ],
        [
         "11",
         "29.99999502272523",
         "-1.2860414028007559e-10",
         "-5e-16",
         "8.4029541"
        ],
        [
         "12",
         "29.99999515034766",
         "-1.2860414028007559e-10",
         "-5e-16",
         "10.3462248"
        ],
        [
         "13",
         "29.99999527797009",
         "-1.2860414028007559e-10",
         "-5e-16",
         "11.6525002"
        ],
        [
         "14",
         "29.99999540559252",
         "-1.2860414028007559e-10",
         "-5e-16",
         "12.1482992"
        ],
        [
         "15",
         "29.99999553321495",
         "-1.2860414028007559e-10",
         "-5e-16",
         "11.8903952"
        ],
        [
         "16",
         "29.99999566083737",
         "-1.2860414028007559e-10",
         "-5e-16",
         "11.1157866"
        ],
        [
         "17",
         "29.9999957884598",
         "-1.2860414028007559e-10",
         "-5e-16",
         "10.1421976"
        ],
        [
         "18",
         "29.99999591608223",
         "-1.2860414028007559e-10",
         "-5e-16",
         "9.25326729"
        ],
        [
         "19",
         "29.99999604370466",
         "-1.2860414028007559e-10",
         "-5e-16",
         "8.60880089"
        ],
        [
         "20",
         "29.99999617132709",
         "-1.2860414028007559e-10",
         "-5e-16",
         "8.22173119"
        ],
        [
         "21",
         "29.99999629894952",
         "-1.2860414028007559e-10",
         "-5e-16",
         "7.98827648"
        ],
        [
         "22",
         "29.99999642657194",
         "-1.2860414028007559e-10",
         "-5e-16",
         "7.76740265"
        ],
        [
         "23",
         "29.99999655419437",
         "-1.2860414028007559e-10",
         "-5e-16",
         "7.45761347"
        ],
        [
         "24",
         "29.9999966818168",
         "-1.2860414028007559e-10",
         "-5e-16",
         "7.05180788"
        ],
        [
         "25",
         "29.99999680943923",
         "-1.2860414028007559e-10",
         "-5e-16",
         "6.63723564"
        ],
        [
         "26",
         "29.99999693706166",
         "-1.2860414028007559e-10",
         "-5e-16",
         "6.35277414"
        ],
        [
         "27",
         "29.99999706468408",
         "-1.2860414028007559e-10",
         "-5e-16",
         "6.31399155"
        ],
        [
         "28",
         "29.99999719230651",
         "-1.2860414028007559e-10",
         "-5e-16",
         "6.55059671"
        ],
        [
         "29",
         "29.99999731992894",
         "-1.2860414028007559e-10",
         "-5e-16",
         "6.97894573"
        ],
        [
         "30",
         "29.99999744755137",
         "-1.2860414028007559e-10",
         "-5e-16",
         "7.42165899"
        ],
        [
         "31",
         "29.9999975751738",
         "-1.2860414028007559e-10",
         "-5e-16",
         "7.6735692"
        ],
        [
         "32",
         "29.99999770279623",
         "-1.2860414028007559e-10",
         "-5e-16",
         "7.58152056"
        ],
        [
         "33",
         "29.99999783041865",
         "-1.2860414028007559e-10",
         "-5e-16",
         "7.10865688"
        ],
        [
         "34",
         "29.99999795804108",
         "-1.2860414028007559e-10",
         "-5e-16",
         "6.35411215"
        ],
        [
         "35",
         "29.99999808566351",
         "-1.2860414028007559e-10",
         "-5e-16",
         "5.5228467"
        ],
        [
         "36",
         "29.99999821328594",
         "-1.2860414028007559e-10",
         "-5e-16",
         "4.8500104"
        ],
        [
         "37",
         "29.99999834090837",
         "-1.2860414028007559e-10",
         "-5e-16",
         "4.5155139"
        ],
        [
         "38",
         "29.99999846853079",
         "-1.2860414028007559e-10",
         "-5e-16",
         "4.57936764"
        ],
        [
         "39",
         "29.99999859615322",
         "-1.2860414028007559e-10",
         "-5e-16",
         "4.96396208"
        ],
        [
         "40",
         "29.99999872377565",
         "-1.2860414028007559e-10",
         "-5e-16",
         "5.49131012"
        ],
        [
         "41",
         "29.99999885139808",
         "-1.2860414028007559e-10",
         "-5e-16",
         "5.96019363"
        ],
        [
         "42",
         "29.99999897902051",
         "-1.2860414028007559e-10",
         "-5e-16",
         "6.23358059"
        ],
        [
         "43",
         "29.99999910664294",
         "-1.2860414028007559e-10",
         "-5e-16",
         "6.30140924"
        ],
        [
         "44",
         "29.99999923426536",
         "-1.2860414028007559e-10",
         "-5e-16",
         "6.29201317"
        ],
        [
         "45",
         "29.99999936188779",
         "-1.2860414028007559e-10",
         "-5e-16",
         "6.4261651"
        ],
        [
         "46",
         "29.99999948951022",
         "-1.2860414028007559e-10",
         "-5e-16",
         "6.93152094"
        ],
        [
         "47",
         "29.99999961713265",
         "-1.2860414028007559e-10",
         "-5e-16",
         "7.94622803"
        ],
        [
         "48",
         "29.99999974475508",
         "-1.2860414028007559e-10",
         "-5e-16",
         "9.44962311"
        ],
        [
         "49",
         "29.9999998723775",
         "-1.2860414028007559e-10",
         "-5e-16",
         "11.2501431"
        ]
       ],
       "shape": {
        "columns": 4,
        "rows": 1020100
       }
      },
      "text/html": [
       "<div>\n",
       "<style scoped>\n",
       "    .dataframe tbody tr th:only-of-type {\n",
       "        vertical-align: middle;\n",
       "    }\n",
       "\n",
       "    .dataframe tbody tr th {\n",
       "        vertical-align: top;\n",
       "    }\n",
       "\n",
       "    .dataframe thead th {\n",
       "        text-align: right;\n",
       "    }\n",
       "</style>\n",
       "<table border=\"1\" class=\"dataframe\">\n",
       "  <thead>\n",
       "    <tr style=\"text-align: right;\">\n",
       "      <th></th>\n",
       "      <th>freq</th>\n",
       "      <th>f1dot</th>\n",
       "      <th>f2dot</th>\n",
       "      <th>twoF</th>\n",
       "    </tr>\n",
       "  </thead>\n",
       "  <tbody>\n",
       "    <tr>\n",
       "      <th>0</th>\n",
       "      <td>29.999994</td>\n",
       "      <td>-1.286041e-10</td>\n",
       "      <td>-5.000000e-16</td>\n",
       "      <td>2.890922</td>\n",
       "    </tr>\n",
       "    <tr>\n",
       "      <th>1</th>\n",
       "      <td>29.999994</td>\n",
       "      <td>-1.286041e-10</td>\n",
       "      <td>-5.000000e-16</td>\n",
       "      <td>3.873759</td>\n",
       "    </tr>\n",
       "    <tr>\n",
       "      <th>2</th>\n",
       "      <td>29.999994</td>\n",
       "      <td>-1.286041e-10</td>\n",
       "      <td>-5.000000e-16</td>\n",
       "      <td>4.505509</td>\n",
       "    </tr>\n",
       "    <tr>\n",
       "      <th>3</th>\n",
       "      <td>29.999994</td>\n",
       "      <td>-1.286041e-10</td>\n",
       "      <td>-5.000000e-16</td>\n",
       "      <td>4.551202</td>\n",
       "    </tr>\n",
       "    <tr>\n",
       "      <th>4</th>\n",
       "      <td>29.999994</td>\n",
       "      <td>-1.286041e-10</td>\n",
       "      <td>-5.000000e-16</td>\n",
       "      <td>4.022419</td>\n",
       "    </tr>\n",
       "    <tr>\n",
       "      <th>...</th>\n",
       "      <td>...</td>\n",
       "      <td>...</td>\n",
       "      <td>...</td>\n",
       "      <td>...</td>\n",
       "    </tr>\n",
       "    <tr>\n",
       "      <th>1020095</th>\n",
       "      <td>30.000006</td>\n",
       "      <td>-7.196794e-11</td>\n",
       "      <td>5.000000e-16</td>\n",
       "      <td>7.068604</td>\n",
       "    </tr>\n",
       "    <tr>\n",
       "      <th>1020096</th>\n",
       "      <td>30.000006</td>\n",
       "      <td>-7.196794e-11</td>\n",
       "      <td>5.000000e-16</td>\n",
       "      <td>6.459538</td>\n",
       "    </tr>\n",
       "    <tr>\n",
       "      <th>1020097</th>\n",
       "      <td>30.000006</td>\n",
       "      <td>-7.196794e-11</td>\n",
       "      <td>5.000000e-16</td>\n",
       "      <td>5.940720</td>\n",
       "    </tr>\n",
       "    <tr>\n",
       "      <th>1020098</th>\n",
       "      <td>30.000006</td>\n",
       "      <td>-7.196794e-11</td>\n",
       "      <td>5.000000e-16</td>\n",
       "      <td>5.592613</td>\n",
       "    </tr>\n",
       "    <tr>\n",
       "      <th>1020099</th>\n",
       "      <td>30.000006</td>\n",
       "      <td>-7.196794e-11</td>\n",
       "      <td>5.000000e-16</td>\n",
       "      <td>5.380609</td>\n",
       "    </tr>\n",
       "  </tbody>\n",
       "</table>\n",
       "<p>1020100 rows × 4 columns</p>\n",
       "</div>"
      ],
      "text/plain": [
       "              freq         f1dot         f2dot      twoF\n",
       "0        29.999994 -1.286041e-10 -5.000000e-16  2.890922\n",
       "1        29.999994 -1.286041e-10 -5.000000e-16  3.873759\n",
       "2        29.999994 -1.286041e-10 -5.000000e-16  4.505509\n",
       "3        29.999994 -1.286041e-10 -5.000000e-16  4.551202\n",
       "4        29.999994 -1.286041e-10 -5.000000e-16  4.022419\n",
       "...            ...           ...           ...       ...\n",
       "1020095  30.000006 -7.196794e-11  5.000000e-16  7.068604\n",
       "1020096  30.000006 -7.196794e-11  5.000000e-16  6.459538\n",
       "1020097  30.000006 -7.196794e-11  5.000000e-16  5.940720\n",
       "1020098  30.000006 -7.196794e-11  5.000000e-16  5.592613\n",
       "1020099  30.000006 -7.196794e-11  5.000000e-16  5.380609\n",
       "\n",
       "[1020100 rows x 4 columns]"
      ]
     },
     "execution_count": 16,
     "metadata": {},
     "output_type": "execute_result"
    }
   ],
   "source": [
    "# Step 4: Parse results and find maximum\n",
    "print(\"\\nParsing results...\")\n",
    "\n",
    "# Read the F-statistic results\n",
    "output_fstat_full = os.path.join(outdir, output_fstat)\n",
    "print(output_fstat_full)\n",
    "# The output format of ComputeFstatistic_v2 is:\n",
    "# columns: freq | alpha | delta | f1dot | f2dot | twoF\n",
    "data = pd.read_csv(output_fstat_full, sep=r'\\s+', comment='%', \n",
    "                   names=['freq', 'alpha', 'delta', 'f1dot', 'f2dot', 'f3dot', 'twoF'])\n",
    "data = data[['freq', 'f1dot', 'f2dot', 'twoF']]\n",
    "data"
   ]
  },
  {
   "cell_type": "code",
   "execution_count": 17,
   "id": "21438f14",
   "metadata": {},
   "outputs": [
    {
     "name": "stdout",
     "output_type": "stream",
     "text": [
      "max F0 = 30.0000 Hz\n",
      "max F1 = -9.9428e-11 Hz/s\n",
      "max F2 = 2.1570e-32 Hz/s^2\n",
      "\n",
      "Maximum 2F = 157.6910\n",
      "Offsets from injection:\n",
      "  F0: -7.1054e-14 Hz\n",
      "  F1: 5.7208e-13 Hz/s\n",
      "  F2: 2.1570e-32 Hz/s^2\n"
     ]
    }
   ],
   "source": [
    "\n",
    "# Extract values\n",
    "F0_vals = data['freq'].values\n",
    "F1_vals = data['f1dot'].values \n",
    "F2_vals = data['f2dot'].values\n",
    "twoF_vals = data['twoF'].values\n",
    "\n",
    "# Find maximum\n",
    "max_idx = np.argmax(twoF_vals)\n",
    "max_twoF = twoF_vals[max_idx]\n",
    "max_F0 = F0_vals[max_idx]\n",
    "max_F1 = F1_vals[max_idx]\n",
    "max_F2 = F2_vals[max_idx]\n",
    "\n",
    "\n",
    "print(f'max F0 = {max_F0:.4f} Hz')\n",
    "print(f'max F1 = {max_F1:.4e} Hz/s')\n",
    "print(f'max F2 = {max_F2:.4e} Hz/s^2')\n",
    "print(f\"\\nMaximum 2F = {max_twoF:.4f}\")\n",
    "print(f\"Offsets from injection:\")\n",
    "print(f\"  F0: {max_F0 - F0_inj:.4e} Hz\")\n",
    "print(f\"  F1: {max_F1 - F1_inj:.4e} Hz/s\")\n",
    "print(f\"  F2: {max_F2 - F2_inj:.4e} Hz/s^2\")\n"
   ]
  },
  {
   "cell_type": "code",
   "execution_count": 18,
   "id": "f56fa90c",
   "metadata": {},
   "outputs": [
    {
     "name": "stdout",
     "output_type": "stream",
     "text": [
      "\n",
      "Creating plots...\n",
      "Creating grid corner plot...\n",
      "\n",
      "All results saved to LAL_example_data/LALGridSearchF0F1F2\n"
     ]
    }
   ],
   "source": [
    "# Step 5: Create plots\n",
    "print(\"\\nCreating plots...\")\n",
    "\n",
    "# 1D plots\n",
    "fig, axes = plt.subplots(3, 1, figsize=(8, 10))\n",
    "\n",
    "# Plot 2F vs F0 (at injection F1, F2)\n",
    "mask_F1F2 = (np.abs(F1_vals - F1_inj) < dF1/2) & (np.abs(F2_vals - F2_inj) < dF2/2)\n",
    "if np.any(mask_F1F2):\n",
    "    F0_slice = F0_vals[mask_F1F2]\n",
    "    twoF_slice = twoF_vals[mask_F1F2]\n",
    "    sort_idx = np.argsort(F0_slice)\n",
    "    axes[0].plot(F0_slice[sort_idx], twoF_slice[sort_idx], 'b-')\n",
    "axes[0].axvline(F0_inj, color='r', linestyle='--', label='Injection')\n",
    "axes[0].set_xlabel('Frequency [Hz]')\n",
    "axes[0].set_ylabel('$2\\\\mathcal{F}$')\n",
    "axes[0].legend()\n",
    "axes[0].grid(True)\n",
    "\n",
    "# Plot 2F vs F1 (at injection F0, F2)\n",
    "mask_F0F2 = (np.abs(F0_vals - F0_inj) < dF0/2) & (np.abs(F2_vals - F2_inj) < dF2/2)\n",
    "if np.any(mask_F0F2):\n",
    "    F1_slice = F1_vals[mask_F0F2]\n",
    "    twoF_slice = twoF_vals[mask_F0F2]\n",
    "    sort_idx = np.argsort(F1_slice)\n",
    "    axes[1].plot(F1_slice[sort_idx], twoF_slice[sort_idx], 'b-')\n",
    "axes[1].axvline(F1_inj, color='r', linestyle='--', label='Injection')\n",
    "axes[1].set_xlabel('$\\\\dot{f}$ [Hz/s]')\n",
    "axes[1].set_ylabel('$2\\\\mathcal{F}$')\n",
    "axes[1].legend()\n",
    "axes[1].grid(True)\n",
    "\n",
    "# Plot 2F vs F2 (at injection F0, F1)\n",
    "mask_F0F1 = (np.abs(F0_vals - F0_inj) < dF0/2) & (np.abs(F1_vals - F1_inj) < dF1/2)\n",
    "if np.any(mask_F0F1):\n",
    "    F2_slice = F2_vals[mask_F0F1]\n",
    "    twoF_slice = twoF_vals[mask_F0F1]\n",
    "    sort_idx = np.argsort(F2_slice)\n",
    "    axes[2].plot(F2_slice[sort_idx], twoF_slice[sort_idx], 'b-')\n",
    "axes[2].axvline(F2_inj, color='r', linestyle='--', label='Injection')\n",
    "axes[2].set_xlabel('$\\\\ddot{f}$ [Hz/s$^2$]')\n",
    "axes[2].set_ylabel('$2\\\\mathcal{F}$')\n",
    "axes[2].legend()\n",
    "axes[2].grid(True)\n",
    "\n",
    "plt.tight_layout()\n",
    "plt.savefig(os.path.join(outdir, \"1D_projections.png\"))\n",
    "plt.close()\n",
    "\n",
    "# Create grid corner plot\n",
    "print(\"Creating grid corner plot...\")\n",
    "\n",
    "# Get unique values for each parameter\n",
    "F0_unique = np.sort(np.unique(F0_vals))\n",
    "F1_unique = np.sort(np.unique(F1_vals))\n",
    "F2_unique = np.sort(np.unique(F2_vals))\n",
    "\n",
    "# Shifted values for plotting\n",
    "F0_shifted = F0_unique - F0_inj\n",
    "F1_shifted = F1_unique - F1_inj\n",
    "F2_shifted = F2_unique - F2_inj\n",
    "\n",
    "# Reshape twoF values into 3D array\n",
    "n_F0 = len(F0_unique)\n",
    "n_F1 = len(F1_unique)\n",
    "n_F2 = len(F2_unique)\n",
    "\n",
    "# Create a mapping from parameter values to indices\n",
    "tolerance = 1e-10  # Small tolerance for floating point comparison\n",
    "def find_index(val, unique_vals):\n",
    "    idx = np.argmin(np.abs(unique_vals - val))\n",
    "    if np.abs(unique_vals[idx] - val) > tolerance:\n",
    "        print(f\"Warning: no exact match found for value {val}\")\n",
    "    return idx\n",
    "\n",
    "# Initialize 3D array\n",
    "twoF_3D = np.zeros((n_F0, n_F1, n_F2))\n",
    "\n",
    "# Fill the 3D array\n",
    "for i in range(len(F0_vals)):\n",
    "    i_F0 = find_index(F0_vals[i], F0_unique)\n",
    "    i_F1 = find_index(F1_vals[i], F1_unique)\n",
    "    i_F2 = find_index(F2_vals[i], F2_unique)\n",
    "    twoF_3D[i_F0, i_F1, i_F2] = twoF_vals[i]\n",
    "\n",
    "# Create corner plot\n",
    "fig = plt.figure(figsize=(10, 10))\n",
    "gs = gridspec.GridSpec(3, 3, figure=fig, hspace=0.1, wspace=0.1)\n",
    "\n",
    "# 2D projections\n",
    "# F0-F1\n",
    "ax_F0F1 = fig.add_subplot(gs[1, 0])\n",
    "Z_F0F1 = np.max(twoF_3D, axis=2)\n",
    "im = ax_F0F1.imshow(Z_F0F1.T, origin='lower', aspect='auto',\n",
    "                    extent=[F0_shifted[0], F0_shifted[-1], F1_shifted[0], F1_shifted[-1]],\n",
    "                    cmap='viridis')\n",
    "ax_F0F1.set_xlabel('$f - f_0$ [Hz]')\n",
    "ax_F0F1.set_ylabel('$\\\\dot{f} - \\\\dot{f}_0$ [Hz/s]')\n",
    "\n",
    "# F0-F2\n",
    "ax_F0F2 = fig.add_subplot(gs[2, 0])\n",
    "Z_F0F2 = np.max(twoF_3D, axis=1)\n",
    "ax_F0F2.imshow(Z_F0F2.T, origin='lower', aspect='auto',\n",
    "               extent=[F0_shifted[0], F0_shifted[-1], F2_shifted[0], F2_shifted[-1]],\n",
    "               cmap='viridis')\n",
    "ax_F0F2.set_xlabel('$f - f_0$ [Hz]')\n",
    "ax_F0F2.set_ylabel('$\\\\ddot{f} - \\\\ddot{f}_0$ [Hz/s$^2$]')\n",
    "\n",
    "# F1-F2\n",
    "ax_F1F2 = fig.add_subplot(gs[2, 1])\n",
    "Z_F1F2 = np.max(twoF_3D, axis=0)\n",
    "ax_F1F2.imshow(Z_F1F2.T, origin='lower', aspect='auto',\n",
    "               extent=[F1_shifted[0], F1_shifted[-1], F2_shifted[0], F2_shifted[-1]],\n",
    "               cmap='viridis')\n",
    "ax_F1F2.set_xlabel('$\\\\dot{f} - \\\\dot{f}_0$ [Hz/s]')\n",
    "ax_F1F2.set_ylabel('$\\\\ddot{f} - \\\\ddot{f}_0$ [Hz/s$^2$]')\n",
    "\n",
    "# 1D projections\n",
    "# F0\n",
    "ax_F0 = fig.add_subplot(gs[0, 0])\n",
    "ax_F0.plot(F0_shifted, np.max(np.max(twoF_3D, axis=2), axis=1))\n",
    "ax_F0.set_ylabel('$2\\\\mathcal{F}$')\n",
    "ax_F0.set_xticklabels([])\n",
    "\n",
    "# F1\n",
    "ax_F1 = fig.add_subplot(gs[1, 1])\n",
    "ax_F1.plot(F1_shifted, np.max(np.max(twoF_3D, axis=2), axis=0))\n",
    "ax_F1.set_ylabel('$2\\\\mathcal{F}$')\n",
    "ax_F1.set_xticklabels([])\n",
    "\n",
    "# F2\n",
    "ax_F2 = fig.add_subplot(gs[2, 2])\n",
    "ax_F2.plot(F2_shifted, np.max(np.max(twoF_3D, axis=1), axis=0))\n",
    "ax_F2.set_xlabel('$\\\\ddot{f} - \\\\ddot{f}_0$ [Hz/s$^2$]')\n",
    "ax_F2.set_ylabel('$2\\\\mathcal{F}$')\n",
    "\n",
    "plt.colorbar(im, ax=[ax_F0F1, ax_F0F2, ax_F1F2], label='$2\\\\mathcal{F}$')\n",
    "plt.savefig(os.path.join(outdir, \"grid_corner_plot.png\"))\n",
    "plt.close()\n",
    "\n",
    "print(f\"\\nAll results saved to {outdir}\")"
   ]
  },
  {
   "cell_type": "code",
   "execution_count": null,
   "id": "260d3158",
   "metadata": {},
   "outputs": [],
   "source": []
  }
 ],
 "metadata": {
  "kernelspec": {
   "display_name": "lalsuite-env",
   "language": "python",
   "name": "python3"
  },
  "language_info": {
   "codemirror_mode": {
    "name": "ipython",
    "version": 3
   },
   "file_extension": ".py",
   "mimetype": "text/x-python",
   "name": "python",
   "nbconvert_exporter": "python",
   "pygments_lexer": "ipython3",
   "version": "3.12.10"
  }
 },
 "nbformat": 4,
 "nbformat_minor": 5
}
