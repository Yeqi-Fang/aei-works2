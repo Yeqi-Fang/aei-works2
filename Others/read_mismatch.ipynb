{
 "cells": [
  {
   "cell_type": "code",
   "execution_count": 1,
   "id": "7649f60b",
   "metadata": {},
   "outputs": [
    {
     "data": {
      "application/vnd.microsoft.datawrangler.viewer.v0+json": {
       "columns": [
        {
         "name": "index",
         "rawType": "int64",
         "type": "integer"
        },
        {
         "name": "Empirical Mismatch (μ)",
         "rawType": "float64",
         "type": "float"
        }
       ],
       "ref": "0a7f0c90-2e01-4486-b1e3-4f60a15c6d40",
       "rows": [
        [
         "0",
         "0.08547025390514892"
        ],
        [
         "1",
         "0.06595582860451148"
        ],
        [
         "2",
         "0.1861697341437571"
        ],
        [
         "3",
         "0.17682756225155555"
        ],
        [
         "4",
         "0.10433825116400997"
        ],
        [
         "5",
         "0.07021532193768663"
        ],
        [
         "6",
         "0.19671804218238267"
        ],
        [
         "7",
         "0.060346029796904"
        ],
        [
         "8",
         "0.27502516937602906"
        ],
        [
         "9",
         "0.2105323416210781"
        ],
        [
         "10",
         "0.0690821919302159"
        ],
        [
         "11",
         "0.24957984259395868"
        ],
        [
         "12",
         "0.1510823259281487"
        ],
        [
         "13",
         "0.23859517536875344"
        ],
        [
         "14",
         "0.07587725231127583"
        ],
        [
         "15",
         "0.11210728946390776"
        ],
        [
         "16",
         "0.06950730279167125"
        ],
        [
         "17",
         "0.19813353462360384"
        ],
        [
         "18",
         "0.08325272655011699"
        ],
        [
         "19",
         "0.18113114851275855"
        ],
        [
         "20",
         "0.05478530128888207"
        ],
        [
         "21",
         "0.22174451116342"
        ],
        [
         "22",
         "0.1567495910086194"
        ],
        [
         "23",
         "0.20447917690019696"
        ],
        [
         "24",
         "0.054273293229468014"
        ],
        [
         "25",
         "0.16361849037316692"
        ],
        [
         "26",
         "0.1692001159634722"
        ],
        [
         "27",
         "0.0969624955587721"
        ],
        [
         "28",
         "0.21000630744678825"
        ],
        [
         "29",
         "0.09651068865359728"
        ],
        [
         "30",
         "0.23215577793998987"
        ],
        [
         "31",
         "0.25412958928147994"
        ],
        [
         "32",
         "0.026774263577760332"
        ],
        [
         "33",
         "0.18764007333668817"
        ],
        [
         "34",
         "0.07070504577848157"
        ],
        [
         "35",
         "0.17608209886546652"
        ],
        [
         "36",
         "0.19716687785840825"
        ],
        [
         "37",
         "0.1313280920475986"
        ],
        [
         "38",
         "0.13858599171024816"
        ],
        [
         "39",
         "0.15304653348889818"
        ],
        [
         "40",
         "0.10620445880878672"
        ],
        [
         "41",
         "0.14410873012738684"
        ],
        [
         "42",
         "0.27513703472028694"
        ],
        [
         "43",
         "0.08073210005789731"
        ],
        [
         "44",
         "0.09654484653415744"
        ],
        [
         "45",
         "0.12567337590842095"
        ],
        [
         "46",
         "0.07328785424437326"
        ],
        [
         "47",
         "0.12686963328065667"
        ],
        [
         "48",
         "0.18335448327021847"
        ],
        [
         "49",
         "0.1899547199308712"
        ]
       ],
       "shape": {
        "columns": 1,
        "rows": 500
       }
      },
      "text/html": [
       "<div>\n",
       "<style scoped>\n",
       "    .dataframe tbody tr th:only-of-type {\n",
       "        vertical-align: middle;\n",
       "    }\n",
       "\n",
       "    .dataframe tbody tr th {\n",
       "        vertical-align: top;\n",
       "    }\n",
       "\n",
       "    .dataframe thead th {\n",
       "        text-align: right;\n",
       "    }\n",
       "</style>\n",
       "<table border=\"1\" class=\"dataframe\">\n",
       "  <thead>\n",
       "    <tr style=\"text-align: right;\">\n",
       "      <th></th>\n",
       "      <th>Empirical Mismatch (μ)</th>\n",
       "    </tr>\n",
       "  </thead>\n",
       "  <tbody>\n",
       "    <tr>\n",
       "      <th>0</th>\n",
       "      <td>0.085470</td>\n",
       "    </tr>\n",
       "    <tr>\n",
       "      <th>1</th>\n",
       "      <td>0.065956</td>\n",
       "    </tr>\n",
       "    <tr>\n",
       "      <th>2</th>\n",
       "      <td>0.186170</td>\n",
       "    </tr>\n",
       "    <tr>\n",
       "      <th>3</th>\n",
       "      <td>0.176828</td>\n",
       "    </tr>\n",
       "    <tr>\n",
       "      <th>4</th>\n",
       "      <td>0.104338</td>\n",
       "    </tr>\n",
       "    <tr>\n",
       "      <th>...</th>\n",
       "      <td>...</td>\n",
       "    </tr>\n",
       "    <tr>\n",
       "      <th>495</th>\n",
       "      <td>0.203392</td>\n",
       "    </tr>\n",
       "    <tr>\n",
       "      <th>496</th>\n",
       "      <td>0.195227</td>\n",
       "    </tr>\n",
       "    <tr>\n",
       "      <th>497</th>\n",
       "      <td>0.199366</td>\n",
       "    </tr>\n",
       "    <tr>\n",
       "      <th>498</th>\n",
       "      <td>0.257042</td>\n",
       "    </tr>\n",
       "    <tr>\n",
       "      <th>499</th>\n",
       "      <td>0.169425</td>\n",
       "    </tr>\n",
       "  </tbody>\n",
       "</table>\n",
       "<p>500 rows × 1 columns</p>\n",
       "</div>"
      ],
      "text/plain": [
       "     Empirical Mismatch (μ)\n",
       "0                  0.085470\n",
       "1                  0.065956\n",
       "2                  0.186170\n",
       "3                  0.176828\n",
       "4                  0.104338\n",
       "..                      ...\n",
       "495                0.203392\n",
       "496                0.195227\n",
       "497                0.199366\n",
       "498                0.257042\n",
       "499                0.169425\n",
       "\n",
       "[500 rows x 1 columns]"
      ]
     },
     "execution_count": 1,
     "metadata": {},
     "output_type": "execute_result"
    }
   ],
   "source": [
    "import pandas as pd\n",
    "import numpy as np\n",
    "\n",
    "mismatches = pd.read_csv('PyFstat_example_data/PyFstatExampleSimpleMCMCvsGridComparisonSemi/mismatches.csv')\n",
    "mismatches"
   ]
  },
  {
   "cell_type": "code",
   "execution_count": 4,
   "id": "5421f3db",
   "metadata": {},
   "outputs": [
    {
     "data": {
      "text/plain": [
       "np.float64(0.2974943720249232)"
      ]
     },
     "execution_count": 4,
     "metadata": {},
     "output_type": "execute_result"
    }
   ],
   "source": [
    "mismatches['Empirical Mismatch (μ)'].max()"
   ]
  },
  {
   "cell_type": "code",
   "execution_count": 5,
   "id": "cfc6ec39",
   "metadata": {},
   "outputs": [
    {
     "data": {
      "text/plain": [
       "np.float64(0.15207031083334374)"
      ]
     },
     "execution_count": 5,
     "metadata": {},
     "output_type": "execute_result"
    }
   ],
   "source": [
    "mismatches['Empirical Mismatch (μ)'].mean()"
   ]
  }
 ],
 "metadata": {
  "kernelspec": {
   "display_name": "lalsuite-env",
   "language": "python",
   "name": "python3"
  },
  "language_info": {
   "codemirror_mode": {
    "name": "ipython",
    "version": 3
   },
   "file_extension": ".py",
   "mimetype": "text/x-python",
   "name": "python",
   "nbconvert_exporter": "python",
   "pygments_lexer": "ipython3",
   "version": "3.12.10"
  }
 },
 "nbformat": 4,
 "nbformat_minor": 5
}
