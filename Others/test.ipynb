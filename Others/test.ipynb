{
 "cells": [
  {
   "cell_type": "code",
   "execution_count": 1,
   "id": "0237b7ea",
   "metadata": {},
   "outputs": [
    {
     "name": "stderr",
     "output_type": "stream",
     "text": [
      "/tmp/ipykernel_8742/122270132.py:1: UserWarning: Wswiglal-redir-stdio:\n",
      "\n",
      "SWIGLAL standard output/error redirection is enabled in IPython.\n",
      "This may lead to performance penalties. To disable locally, use:\n",
      "\n",
      "with lal.no_swig_redirect_standard_output_error():\n",
      "    ...\n",
      "\n",
      "To disable globally, use:\n",
      "\n",
      "lal.swig_redirect_standard_output_error(False)\n",
      "\n",
      "Note however that this will likely lead to error messages from\n",
      "LAL functions being either misdirected or lost when called from\n",
      "Jupyter notebooks.\n",
      "\n",
      "To suppress this warning, use:\n",
      "\n",
      "import warnings\n",
      "warnings.filterwarnings(\"ignore\", \"Wswiglal-redir-stdio\")\n",
      "import lal\n",
      "\n",
      "  import lal\n"
     ]
    }
   ],
   "source": [
    "import lal\n",
    "import lalsimulation as lalsim\n",
    "import numpy as np\n",
    "import matplotlib.pyplot as plt"
   ]
  },
  {
   "cell_type": "code",
   "execution_count": 2,
   "id": "3ddbf7a7",
   "metadata": {},
   "outputs": [],
   "source": [
    "# 设置双星系统参数\n",
    "m1 = 30.0 * lal.MSUN_SI  # 天体1质量 (30倍太阳质量)\n",
    "m2 = 30.0 * lal.MSUN_SI  # 天体2质量 (30倍太阳质量)\n",
    "spin1x = 0.0            # 天体1自旋x分量\n",
    "spin1y = 0.0            # 天体1自旋y分量  \n",
    "spin1z = 0.0            # 天体1自旋z分量\n",
    "spin2x = 0.0            # 天体2自旋x分量\n",
    "spin2y = 0.0            # 天体2自旋y分量\n",
    "spin2z = 0.0            # 天体2自旋z分量\n",
    "distance = 100.0 * lal.PC_SI * 1e6  # 距离 (100 Mpc)\n",
    "inclination = 0.0       # 轨道倾角\n",
    "phiref = 0.0           # 参考相位\n",
    "longAscNodes = 0.0     # 升交点经度\n",
    "eccentricity = 0.0     # 偏心率\n",
    "meanPerAno = 0.0       # 平近点角\n",
    "\n",
    "# 时间参数\n",
    "deltaT = 1.0/4096.0    # 采样间隔\n",
    "f_min = 20.0          # 起始频率 (Hz)\n",
    "f_ref = 20.0          # 参考频率 (Hz)\n",
    "\n",
    "# 选择波形近似模型\n",
    "approximant = lalsim.IMRPhenomD\n",
    "\n",
    "# 生成时域波形\n",
    "hp, hc = lalsim.SimInspiralChooseTDWaveform(\n",
    "    m1, m2, spin1x, spin1y, spin1z, spin2x, spin2y, spin2z,\n",
    "    distance, inclination, phiref, longAscNodes, eccentricity, meanPerAno,\n",
    "    deltaT, f_min, f_ref, None, approximant\n",
    ")"
   ]
  },
  {
   "cell_type": "code",
   "execution_count": 3,
   "id": "4b2b43eb",
   "metadata": {},
   "outputs": [],
   "source": [
    "# 频域参数\n",
    "deltaF = 1.0/4.0      # 频率分辨率\n",
    "f_max = 1024.0        # 最大频率\n",
    "\n",
    "# 生成频域波形  \n",
    "hp_f, hc_f = lalsim.SimInspiralChooseFDWaveform(\n",
    "    m1, m2, spin1x, spin1y, spin1z, spin2x, spin2y, spin2z,\n",
    "    distance, inclination, phiref, longAscNodes, eccentricity, meanPerAno,\n",
    "    deltaF, f_min, f_max, f_ref, None, approximant\n",
    ")"
   ]
  },
  {
   "cell_type": "code",
   "execution_count": null,
   "id": "99e43a9c",
   "metadata": {},
   "outputs": [],
   "source": [
    "# 从LAL时间序列提取数据\n",
    "time = np.arange(hp.data.length) * hp.deltaT + hp.epoch\n",
    "strain_plus = hp.data.data\n",
    "strain_cross = hc.data.data\n",
    "\n",
    "# 绘制波形\n",
    "plt.figure(figsize=(12, 6))\n",
    "plt.plot(time, strain_plus, label='h_plus')\n",
    "plt.plot(time, strain_cross, label='h_cross')\n",
    "plt.xlabel('Time (s)')\n",
    "plt.ylabel('Strain')\n",
    "plt.legend()\n",
    "plt.title('Gravitational Wave Strain')\n",
    "plt.show()"
   ]
  }
 ],
 "metadata": {
  "kernelspec": {
   "display_name": "lalsuite-env",
   "language": "python",
   "name": "python3"
  },
  "language_info": {
   "codemirror_mode": {
    "name": "ipython",
    "version": 3
   },
   "file_extension": ".py",
   "mimetype": "text/x-python",
   "name": "python",
   "nbconvert_exporter": "python",
   "pygments_lexer": "ipython3",
   "version": "3.12.10"
  }
 },
 "nbformat": 4,
 "nbformat_minor": 5
}
